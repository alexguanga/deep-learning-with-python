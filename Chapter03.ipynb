{
 "cells": [
  {
   "cell_type": "markdown",
   "metadata": {},
   "source": [
    "# Chapter 3: Getting started with neural networks"
   ]
  },
  {
   "cell_type": "markdown",
   "metadata": {},
   "source": [
    "## 3.1 Anatomy of a neural network"
   ]
  },
  {
   "cell_type": "markdown",
   "metadata": {},
   "source": [
    "Notes:\n",
    "- Layers, which are combined into a network (or model)\n",
    "- The input data and corresponding targets\n",
    "- The loss function, which defines the feedback signal used for learning\n",
    "- The optimizer, which determines how learning proceeds.\n",
    "- <img src=\"./images/keras_01.png\" width=600px>\n",
    "- Remember, that layers are important to neural network\n",
    "    - Layers are vectors of the weights: Some layers are stateless, but more frequently layers have a state: the layer’s weights, one or several tensors learned with stochastic gradient descent, which together contain the network’s knowledge.\n"
   ]
  },
  {
   "cell_type": "markdown",
   "metadata": {},
   "source": [
    "### 3.1.1 Layers: the building blocks of deep learning\n",
    "- Type of layers for different tensor formats/different type of data processing\n",
    "     - For instance, simple vector data, stored in 2D tensors of shape (samples, features), is often processed by densely connected layers, also called fully connected or dense layers (the Dense class in Keras).\n",
    "     - Sequence data, stored in 3D tensors of shape (samples, timesteps, features), is typically processed by recurrent layers such as an LSTM layer.\n",
    "     - Image data, stored in 4D tensors, is usually processed by 2D convolution layers (Conv2D).\n"
   ]
  },
  {
   "cell_type": "code",
   "execution_count": 1,
   "metadata": {},
   "outputs": [],
   "source": [
    "# from keras import layers\n",
    "# layer = layers.Dense(32, input_shape=(784,))"
   ]
  },
  {
   "cell_type": "markdown",
   "metadata": {},
   "source": [
    "### 3.1.2 Models: networks of layers\n",
    "- We’re creating a layer that will only accept as input 2D tensors where the first dimension is 784 (axis 0, the batch dimension, is unspecified, and thus any value would be accepted).\n",
    "- The code above looks will output a tensor where the first dimension has been transformed to be 32.\n",
    "- A deep-learning model is a directed, acyclic graph of layers. The most common instance is a linear stack of layers, mapping a single input to a single output.\n",
    "- There are spaces (constraints) that are data lives within. E.g:\n",
    "    - Two-branch networks\n",
    "    - Multihead networks\n",
    "    - Inception blocks"
   ]
  },
  {
   "cell_type": "markdown",
   "metadata": {},
   "source": [
    "### 3.1.3 Loss functions and optimizers: keys to configuring the learning process\n",
    "- Loss function (objective function)—The quantity that will be minimized during training. It represents a measure of success for the task at hand.\n",
    "- Optimizer—Determines how the network will be updated based on the loss function. It implements a specific variant of stochastic gradient descent (SGD)."
   ]
  },
  {
   "cell_type": "markdown",
   "metadata": {},
   "source": [
    "## 3.2 Introduction to Keras"
   ]
  },
  {
   "cell_type": "markdown",
   "metadata": {},
   "source": [
    "### 3.2.2 Developing with Keras: a quick overview\n",
    "- 1. Define your training data: input tensors and target tensors.\n",
    "- 2. Define a network of layers (or model ) that maps your inputs to your targets.\n",
    "- 3. Configure the learning process by choosing a loss function, an optimizer, and some metrics to monitor.\n",
    "- 4. Iterate on your training data by calling the fit() method of your model.\n",
    "- We must define the structure of the keras network. We could either use the functional API function or the Sequential library within Keras.\n",
    "- Finally, the learning process consists of passing Numpy arrays of input data (and the corresponding target data) to the model via the fit() method, similar to what you would do in Scikit-Learn and several other machine-learning libraries"
   ]
  },
  {
   "cell_type": "markdown",
   "metadata": {},
   "source": [
    "## 3.3 Setting up a deep-learning workstation"
   ]
  },
  {
   "cell_type": "markdown",
   "metadata": {},
   "source": [
    "## 3.4 Classifying movie reviews: a binary classification example"
   ]
  },
  {
   "cell_type": "code",
   "execution_count": 2,
   "metadata": {},
   "outputs": [
    {
     "name": "stderr",
     "output_type": "stream",
     "text": [
      "/Users/alexguanga/anaconda/lib/python3.6/site-packages/h5py/__init__.py:36: FutureWarning: Conversion of the second argument of issubdtype from `float` to `np.floating` is deprecated. In future, it will be treated as `np.float64 == np.dtype(float).type`.\n",
      "  from ._conv import register_converters as _register_converters\n",
      "Using TensorFlow backend.\n"
     ]
    }
   ],
   "source": [
    "from keras.datasets import imdb\n",
    "(train_data, train_labels), (test_data, test_labels) = imdb.load_data(num_words=10000)\n",
    "\n",
    "# We add num_words for the top popular num_words... do not want to have a unmanagebale dataset"
   ]
  },
  {
   "cell_type": "code",
   "execution_count": 3,
   "metadata": {},
   "outputs": [
    {
     "data": {
      "text/plain": [
       "[1,\n",
       " 14,\n",
       " 22,\n",
       " 16,\n",
       " 43,\n",
       " 530,\n",
       " 973,\n",
       " 1622,\n",
       " 1385,\n",
       " 65,\n",
       " 458,\n",
       " 4468,\n",
       " 66,\n",
       " 3941,\n",
       " 4,\n",
       " 173,\n",
       " 36,\n",
       " 256,\n",
       " 5,\n",
       " 25,\n",
       " 100,\n",
       " 43,\n",
       " 838,\n",
       " 112,\n",
       " 50,\n",
       " 670,\n",
       " 2,\n",
       " 9,\n",
       " 35,\n",
       " 480,\n",
       " 284,\n",
       " 5,\n",
       " 150,\n",
       " 4,\n",
       " 172,\n",
       " 112,\n",
       " 167,\n",
       " 2,\n",
       " 336,\n",
       " 385,\n",
       " 39,\n",
       " 4,\n",
       " 172,\n",
       " 4536,\n",
       " 1111,\n",
       " 17,\n",
       " 546,\n",
       " 38,\n",
       " 13,\n",
       " 447,\n",
       " 4,\n",
       " 192,\n",
       " 50,\n",
       " 16,\n",
       " 6,\n",
       " 147,\n",
       " 2025,\n",
       " 19,\n",
       " 14,\n",
       " 22,\n",
       " 4,\n",
       " 1920,\n",
       " 4613,\n",
       " 469,\n",
       " 4,\n",
       " 22,\n",
       " 71,\n",
       " 87,\n",
       " 12,\n",
       " 16,\n",
       " 43,\n",
       " 530,\n",
       " 38,\n",
       " 76,\n",
       " 15,\n",
       " 13,\n",
       " 1247,\n",
       " 4,\n",
       " 22,\n",
       " 17,\n",
       " 515,\n",
       " 17,\n",
       " 12,\n",
       " 16,\n",
       " 626,\n",
       " 18,\n",
       " 2,\n",
       " 5,\n",
       " 62,\n",
       " 386,\n",
       " 12,\n",
       " 8,\n",
       " 316,\n",
       " 8,\n",
       " 106,\n",
       " 5,\n",
       " 4,\n",
       " 2223,\n",
       " 5244,\n",
       " 16,\n",
       " 480,\n",
       " 66,\n",
       " 3785,\n",
       " 33,\n",
       " 4,\n",
       " 130,\n",
       " 12,\n",
       " 16,\n",
       " 38,\n",
       " 619,\n",
       " 5,\n",
       " 25,\n",
       " 124,\n",
       " 51,\n",
       " 36,\n",
       " 135,\n",
       " 48,\n",
       " 25,\n",
       " 1415,\n",
       " 33,\n",
       " 6,\n",
       " 22,\n",
       " 12,\n",
       " 215,\n",
       " 28,\n",
       " 77,\n",
       " 52,\n",
       " 5,\n",
       " 14,\n",
       " 407,\n",
       " 16,\n",
       " 82,\n",
       " 2,\n",
       " 8,\n",
       " 4,\n",
       " 107,\n",
       " 117,\n",
       " 5952,\n",
       " 15,\n",
       " 256,\n",
       " 4,\n",
       " 2,\n",
       " 7,\n",
       " 3766,\n",
       " 5,\n",
       " 723,\n",
       " 36,\n",
       " 71,\n",
       " 43,\n",
       " 530,\n",
       " 476,\n",
       " 26,\n",
       " 400,\n",
       " 317,\n",
       " 46,\n",
       " 7,\n",
       " 4,\n",
       " 2,\n",
       " 1029,\n",
       " 13,\n",
       " 104,\n",
       " 88,\n",
       " 4,\n",
       " 381,\n",
       " 15,\n",
       " 297,\n",
       " 98,\n",
       " 32,\n",
       " 2071,\n",
       " 56,\n",
       " 26,\n",
       " 141,\n",
       " 6,\n",
       " 194,\n",
       " 7486,\n",
       " 18,\n",
       " 4,\n",
       " 226,\n",
       " 22,\n",
       " 21,\n",
       " 134,\n",
       " 476,\n",
       " 26,\n",
       " 480,\n",
       " 5,\n",
       " 144,\n",
       " 30,\n",
       " 5535,\n",
       " 18,\n",
       " 51,\n",
       " 36,\n",
       " 28,\n",
       " 224,\n",
       " 92,\n",
       " 25,\n",
       " 104,\n",
       " 4,\n",
       " 226,\n",
       " 65,\n",
       " 16,\n",
       " 38,\n",
       " 1334,\n",
       " 88,\n",
       " 12,\n",
       " 16,\n",
       " 283,\n",
       " 5,\n",
       " 16,\n",
       " 4472,\n",
       " 113,\n",
       " 103,\n",
       " 32,\n",
       " 15,\n",
       " 16,\n",
       " 5345,\n",
       " 19,\n",
       " 178,\n",
       " 32]"
      ]
     },
     "execution_count": 3,
     "metadata": {},
     "output_type": "execute_result"
    }
   ],
   "source": [
    "# Each instance in the training data is a review with word indices (encoding a sequence of words)\n",
    "# The train_labels tells whether or not the review was positive or negative\n",
    "train_data[0]"
   ]
  },
  {
   "cell_type": "code",
   "execution_count": 4,
   "metadata": {},
   "outputs": [
    {
     "data": {
      "text/plain": [
       "9999"
      ]
     },
     "execution_count": 4,
     "metadata": {},
     "output_type": "execute_result"
    }
   ],
   "source": [
    "# The max num of words will be 99999, our constraint\n",
    "# List comphrension where we find the largest instance of each row\n",
    "max([max(sequence) for sequence in train_data])"
   ]
  },
  {
   "cell_type": "code",
   "execution_count": 5,
   "metadata": {},
   "outputs": [],
   "source": [
    "# The following will revert the word back to english\n",
    "word_index = imdb.get_word_index()\n",
    "\n",
    "# Reverses the structure of the key, value mapping it back to the words\n",
    "reverse_word_index = dict(\n",
    "    [(value, key) for (key, value) in word_index.items()]\n",
    ")\n",
    "\n",
    "# Decoding the message\n",
    "# Note that the indices are offset by 3 because 0, 1, and 2 are\n",
    "# reserved indices for “padding,” “start of sequence,” and “unknown.”\n",
    "decoded_review = ' '.join(\n",
    "    [reverse_word_index.get(i - 3, '?') for i in train_data[0]]\n",
    ")"
   ]
  },
  {
   "cell_type": "code",
   "execution_count": 6,
   "metadata": {},
   "outputs": [
    {
     "data": {
      "text/plain": [
       "\"? this film was just brilliant casting location scenery story direction everyone's really suited the part they played and you could just imagine being there robert ? is an amazing actor and now the same being director ? father came from the same scottish island as myself so i loved the fact there was a real connection with this film the witty remarks throughout the film were great it was just brilliant so much that i bought the film as soon as it was released for ? and would recommend it to everyone to watch and the fly fishing was amazing really cried at the end it was so sad and you know what they say if you cry at a film it must have been good and this definitely was also ? to the two little boy's that played the ? of norman and paul they were just brilliant children are often left out of the ? list i think because the stars that play them all grown up are such a big profile for the whole film but these children are amazing and should be praised for what they have done don't you think the whole story was so lovely because it was true and was someone's life after all that was shared with us all\""
      ]
     },
     "execution_count": 6,
     "metadata": {},
     "output_type": "execute_result"
    }
   ],
   "source": [
    "decoded_review"
   ]
  },
  {
   "cell_type": "code",
   "execution_count": 7,
   "metadata": {},
   "outputs": [],
   "source": [
    "# We need to fix the vector of integer into a tensors\n",
    "# There are two methods, the more complicated method will be shown later in the textbook\n",
    "# We are creating a matrix where the sequences represents the vector of words in each row\n",
    "# and the dimension is the total number of rows\n",
    "# we create a 1 if the word is in the vector\n",
    "\n",
    "# One thing to note is that it is important to have decimals even for integers...\n",
    "\n",
    "import numpy as np\n",
    "def vectorize_sequences(sequences, dimensions=10000):\n",
    "    results = np.zeros((len(sequences), dimensions))\n",
    "    for i, sequences in enumerate(sequences):\n",
    "        results[i, sequences] = 1.\n",
    "    return results\n",
    "\n",
    "x_train = vectorize_sequences(train_data)\n",
    "x_test = vectorize_sequences(test_data)"
   ]
  },
  {
   "cell_type": "code",
   "execution_count": 8,
   "metadata": {},
   "outputs": [
    {
     "data": {
      "text/plain": [
       "array([0., 1., 1., ..., 0., 0., 0.])"
      ]
     },
     "execution_count": 8,
     "metadata": {},
     "output_type": "execute_result"
    }
   ],
   "source": [
    "x_train[0]"
   ]
  },
  {
   "cell_type": "code",
   "execution_count": 9,
   "metadata": {},
   "outputs": [
    {
     "data": {
      "text/plain": [
       "(25000, 10000)"
      ]
     },
     "execution_count": 9,
     "metadata": {},
     "output_type": "execute_result"
    }
   ],
   "source": [
    "x_train.shape"
   ]
  },
  {
   "cell_type": "code",
   "execution_count": 10,
   "metadata": {},
   "outputs": [],
   "source": [
    "# We also need to vectorize the test set\n",
    "y_train = np.asarray(train_labels).astype('float32')\n",
    "y_test = np.asarray(test_labels).astype('float32')"
   ]
  },
  {
   "cell_type": "code",
   "execution_count": 11,
   "metadata": {},
   "outputs": [
    {
     "data": {
      "text/plain": [
       "array([1, 0, 0, ..., 0, 1, 0])"
      ]
     },
     "execution_count": 11,
     "metadata": {},
     "output_type": "execute_result"
    }
   ],
   "source": [
    "train_labels"
   ]
  },
  {
   "cell_type": "code",
   "execution_count": 12,
   "metadata": {},
   "outputs": [
    {
     "data": {
      "text/plain": [
       "array([1., 0., 0., ..., 0., 1., 0.], dtype=float32)"
      ]
     },
     "execution_count": 12,
     "metadata": {},
     "output_type": "execute_result"
    }
   ],
   "source": [
    "y_train"
   ]
  },
  {
   "cell_type": "markdown",
   "metadata": {},
   "source": [
    "### 3.4.3 Building your network\n",
    "When we have vectors and output labels (that are decoded) as 0 and 1, we can represent these type of algos as a \"dense\" function from the keras library\n",
    "\n",
    "The hidden unit is each of the nodes that make up the layer\n",
    "\n",
    "There are two key architecture decisions to be made about such a stack of Dense layers:\n",
    "- How many layers to use\n",
    "- How many hidden units to choose for each layer\n",
    "\n",
    "While the concept of the layter can be changed, the author suggest the following. We will eventually have to change the way the data is structure (but lets use the following) as a framework:\n",
    "- Two intermediate layers with 16 hidden units each\n",
    "- A third layer that will output the scalar prediction regarding the sentiment of\n",
    "the current review\n",
    "\n",
    "Two of the most popular models are the relu and logsitic function. The relu model will be used when we are looking at  the hidden layers. The hidden layers will help us find the activation we need, and the relu function can only be in the range btw positive values, it eliminates the nagtive values. Moreover, the logistic regression will take any value and the range will be btw 0 and 1.\n",
    "\n",
    "Another thing to keep in mind is how we should identify the loss function and optimizer. \n",
    "- It isn’t the only viable choice: you could use, for instance, mean_squared_error. But crossentropy is usually the best choice when you’re dealing with models that output probabilities. Crossentropy is a quantity from the field of Information Theory that measures the distance between probability distributions or, in this case, between the ground-truth distribution and your predictions"
   ]
  },
  {
   "cell_type": "code",
   "execution_count": 13,
   "metadata": {},
   "outputs": [],
   "source": [
    "from keras import models\n",
    "from keras import layers\n",
    "\n",
    "model = models.Sequential()\n",
    "model.add(layers.Dense(16, activation='relu', input_shape=(10000,)))\n",
    "model.add(layers.Dense(16, activation='relu'))\n",
    "model.add(layers.Dense(1, activation='sigmoid'))\n",
    "\n",
    "# Including the loss function/optimizer\n",
    "# model.compile(optimizer='rmsprop',\n",
    "# loss='binary_crossentropy',\n",
    "# metrics=['accuracy'])\n",
    "\n",
    "# Another implemention of the loss function/optimizer\n",
    "from keras import optimizers\n",
    "model.compile(optimizer=optimizers.RMSprop(lr=0.001),\n",
    "              loss='binary_crossentropy',\n",
    "              metrics=['accuracy'])"
   ]
  },
  {
   "cell_type": "markdown",
   "metadata": {},
   "source": [
    "### 3.4.4 Validating your approach\n",
    "One of the best way to conduct the trinaing and testing set is to inlcude the crossvalidation into the problem.\n",
    "\n",
    "Notes:\n",
    "- But that isn’t the case for the validation loss and accuracy: they seem to peak at the fourth epoch."
   ]
  },
  {
   "cell_type": "code",
   "execution_count": 14,
   "metadata": {},
   "outputs": [
    {
     "name": "stdout",
     "output_type": "stream",
     "text": [
      "Train on 15000 samples, validate on 10000 samples\n",
      "Epoch 1/20\n",
      "15000/15000 [==============================] - 5s 307us/step - loss: 0.5083 - acc: 0.7823 - val_loss: 0.3787 - val_acc: 0.8689\n",
      "Epoch 2/20\n",
      "15000/15000 [==============================] - 3s 207us/step - loss: 0.3001 - acc: 0.9047 - val_loss: 0.3001 - val_acc: 0.8897\n",
      "Epoch 3/20\n",
      "15000/15000 [==============================] - 3s 184us/step - loss: 0.2178 - acc: 0.9282 - val_loss: 0.3083 - val_acc: 0.8717\n",
      "Epoch 4/20\n",
      "15000/15000 [==============================] - 3s 194us/step - loss: 0.1750 - acc: 0.9437 - val_loss: 0.2840 - val_acc: 0.8839\n",
      "Epoch 5/20\n",
      "15000/15000 [==============================] - 3s 174us/step - loss: 0.1425 - acc: 0.9545 - val_loss: 0.2843 - val_acc: 0.8874\n",
      "Epoch 6/20\n",
      "15000/15000 [==============================] - 2s 161us/step - loss: 0.1150 - acc: 0.9650 - val_loss: 0.3170 - val_acc: 0.8776\n",
      "Epoch 7/20\n",
      "15000/15000 [==============================] - 2s 146us/step - loss: 0.0980 - acc: 0.9708 - val_loss: 0.3127 - val_acc: 0.8846\n",
      "Epoch 8/20\n",
      "15000/15000 [==============================] - 2s 163us/step - loss: 0.0807 - acc: 0.9765 - val_loss: 0.3859 - val_acc: 0.8653\n",
      "Epoch 9/20\n",
      "15000/15000 [==============================] - 2s 162us/step - loss: 0.0660 - acc: 0.9821 - val_loss: 0.3633 - val_acc: 0.8784\n",
      "Epoch 10/20\n",
      "15000/15000 [==============================] - 2s 147us/step - loss: 0.0559 - acc: 0.9853 - val_loss: 0.3842 - val_acc: 0.8789\n",
      "Epoch 11/20\n",
      "15000/15000 [==============================] - 2s 166us/step - loss: 0.0445 - acc: 0.9889 - val_loss: 0.4157 - val_acc: 0.8773\n",
      "Epoch 12/20\n",
      "15000/15000 [==============================] - 3s 180us/step - loss: 0.0384 - acc: 0.9916 - val_loss: 0.4511 - val_acc: 0.8693\n",
      "Epoch 13/20\n",
      "15000/15000 [==============================] - 3s 174us/step - loss: 0.0300 - acc: 0.9929 - val_loss: 0.4696 - val_acc: 0.8732\n",
      "Epoch 14/20\n",
      "15000/15000 [==============================] - 3s 174us/step - loss: 0.0246 - acc: 0.9947 - val_loss: 0.5016 - val_acc: 0.8724\n",
      "Epoch 15/20\n",
      "15000/15000 [==============================] - 3s 171us/step - loss: 0.0175 - acc: 0.9980 - val_loss: 0.5559 - val_acc: 0.8659\n",
      "Epoch 16/20\n",
      "15000/15000 [==============================] - 2s 128us/step - loss: 0.0175 - acc: 0.9966 - val_loss: 0.5751 - val_acc: 0.8704\n",
      "Epoch 17/20\n",
      "15000/15000 [==============================] - 2s 157us/step - loss: 0.0092 - acc: 0.9994 - val_loss: 0.6047 - val_acc: 0.8684\n",
      "Epoch 18/20\n",
      "15000/15000 [==============================] - 2s 136us/step - loss: 0.0106 - acc: 0.9981 - val_loss: 0.6408 - val_acc: 0.8673\n",
      "Epoch 19/20\n",
      "15000/15000 [==============================] - 2s 141us/step - loss: 0.0112 - acc: 0.9971 - val_loss: 0.6833 - val_acc: 0.8654\n",
      "Epoch 20/20\n",
      "15000/15000 [==============================] - 2s 132us/step - loss: 0.0039 - acc: 0.9999 - val_loss: 0.6944 - val_acc: 0.8656\n"
     ]
    }
   ],
   "source": [
    "x_val = x_train[:10000]\n",
    "partial_x_train = x_train[10000:]\n",
    "\n",
    "y_val = y_train[:10000]\n",
    "partial_y_train = y_train[10000:]\n",
    "\n",
    "# Training the model\n",
    "model.compile(optimizer='rmsprop',\n",
    "              loss='binary_crossentropy',\n",
    "              metrics=['acc'])\n",
    "\n",
    "history = model.fit(partial_x_train,\n",
    "                    partial_y_train,\n",
    "                    epochs=20,\n",
    "                    batch_size=512,\n",
    "                    validation_data=(x_val, y_val))"
   ]
  },
  {
   "cell_type": "code",
   "execution_count": 15,
   "metadata": {},
   "outputs": [
    {
     "data": {
      "text/plain": [
       "<Figure size 640x480 with 1 Axes>"
      ]
     },
     "metadata": {},
     "output_type": "display_data"
    },
    {
     "data": {
      "text/plain": [
       "<Figure size 640x480 with 1 Axes>"
      ]
     },
     "metadata": {},
     "output_type": "display_data"
    }
   ],
   "source": [
    "# If we can the history object, we find that is dictionary that contains certains key, values\n",
    "history_dict = history.history\n",
    "history_dict.keys() # output: [u'acc', u'loss', u'val_acc', u'val_loss']\n",
    "\n",
    "# Plotting the training and testing loss\n",
    "import matplotlib.pyplot as plt\n",
    "acc = history_dict['acc']\n",
    "loss_values = history_dict['loss']\n",
    "val_acc = history_dict['val_acc']\n",
    "val_loss_values = history_dict['val_loss']\n",
    "\n",
    "epochs = range(1, len(acc) + 1)\n",
    "\n",
    "plt.plot(epochs, loss_values, 'bo', label='Training loss')\n",
    "plt.plot(epochs, val_loss_values, 'b', label='Validation loss')\n",
    "plt.title('Training and validation loss')\n",
    "plt.xlabel('Epochs')\n",
    "plt.ylabel('Loss')\n",
    "plt.legend()\n",
    "plt.show()\n",
    "\n",
    "plt.clf()\n",
    "\n",
    "# Plotting the training and testing accuracy\n",
    "acc_values = history_dict['acc']\n",
    "val_acc_values = history_dict['val_acc']\n",
    "plt.plot(epochs, acc, 'bo', label='Training acc')\n",
    "plt.plot(epochs, val_acc, 'b', label='Validation acc')\n",
    "plt.title('Training and validation accuracy')\n",
    "plt.xlabel('Epochs')\n",
    "plt.ylabel('Loss')\n",
    "plt.legend()\n",
    "plt.show()"
   ]
  },
  {
   "cell_type": "code",
   "execution_count": 16,
   "metadata": {},
   "outputs": [
    {
     "name": "stdout",
     "output_type": "stream",
     "text": [
      "Epoch 1/4\n",
      "25000/25000 [==============================] - 3s 107us/step - loss: 0.4749 - acc: 0.8216\n",
      "Epoch 2/4\n",
      "25000/25000 [==============================] - 2s 86us/step - loss: 0.2654 - acc: 0.9096\n",
      "Epoch 3/4\n",
      "25000/25000 [==============================] - 2s 88us/step - loss: 0.1983 - acc: 0.9301\n",
      "Epoch 4/4\n",
      "25000/25000 [==============================] - 2s 97us/step - loss: 0.1677 - acc: 0.9402\n",
      "25000/25000 [==============================] - 4s 156us/step\n"
     ]
    },
    {
     "data": {
      "text/plain": [
       "array([[0.13788043],\n",
       "       [0.99969196],\n",
       "       [0.2989973 ],\n",
       "       ...,\n",
       "       [0.07207676],\n",
       "       [0.04376046],\n",
       "       [0.46998248]], dtype=float32)"
      ]
     },
     "execution_count": 16,
     "metadata": {},
     "output_type": "execute_result"
    }
   ],
   "source": [
    "# Noticed that in the graphs above, we see the total num of epoch should be around 3 or 4. After 4, \n",
    "# the performance of testing set suffers\n",
    "\n",
    "model = models.Sequential()\n",
    "model.add(layers.Dense(16, activation='relu', input_shape=(10000,)))\n",
    "model.add(layers.Dense(16, activation='relu'))\n",
    "model.add(layers.Dense(1, activation='sigmoid'))\n",
    "model.compile(optimizer='rmsprop',\n",
    "              loss='binary_crossentropy',\n",
    "              metrics=['accuracy'])\n",
    "model.fit(x_train, y_train, epochs=4, batch_size=512)\n",
    "\n",
    "# lets evaluare the result \n",
    "results = model.evaluate(x_test, y_test)\n",
    "\n",
    "# if we need the actual prediction of each of the cases...\n",
    "model.predict(x_test)"
   ]
  },
  {
   "cell_type": "code",
   "execution_count": 17,
   "metadata": {},
   "outputs": [
    {
     "data": {
      "text/plain": [
       "(25000, 10000)"
      ]
     },
     "execution_count": 17,
     "metadata": {},
     "output_type": "execute_result"
    }
   ],
   "source": [
    "x_train.shape"
   ]
  },
  {
   "cell_type": "code",
   "execution_count": 18,
   "metadata": {},
   "outputs": [],
   "source": [
    "import pickle\n",
    "pickle.dump(x_train, open(\"x_train.p\", \"wb\"))\n",
    "#pickle.dump(x_test, open(\"x_test.p\", \"wb\"))\n",
    "#pickle.dump(y_train, open(\"y_train.p\", \"wb\"))\n",
    "#pickle.dump(y_test, open(\"y_test.p\", \"wb\"))"
   ]
  },
  {
   "cell_type": "code",
   "execution_count": 19,
   "metadata": {},
   "outputs": [
    {
     "data": {
      "text/plain": [
       "(25000, 10000)"
      ]
     },
     "execution_count": 19,
     "metadata": {},
     "output_type": "execute_result"
    }
   ],
   "source": [
    "x_train = pickle.load(open( \"x_train.p\", \"rb\" ) )\n",
    "x_train.shape"
   ]
  },
  {
   "cell_type": "markdown",
   "metadata": {},
   "source": [
    "### 3.4.6 Further experiments\n",
    "The following experiments will help convince you that the architecture choices you’ve made are all fairly reasonable, although there’s still room for improvement:\n",
    "- You used two hidden layers. Try using one or three hidden layers, and see how doing so affects validation and test accuracy.\n",
    "- Try using layers with more hidden units or fewer hidden units: 32 units, 64 units, and so on.\n",
    "- Try using the mse loss function instead of binary_crossentropy.\n",
    "- Try using the tanh activation (an activation that was popular in the early days of neural networks) instead of relu."
   ]
  },
  {
   "cell_type": "markdown",
   "metadata": {},
   "source": [
    "### 3.4.7 Wrapping up\n",
    "Here’s what you should take away from this example:\n",
    "- You usually need to do quite a bit of preprocessing on your raw data in order to be able to feed it—as tensors—into a neural network. Sequences of words can be encoded as binary vectors, but there are other encoding options, too.\n",
    "- Stacks of Dense layers with relu activations can solve a wide range of problems (including sentiment classification), and you’ll likely use them frequently.\n",
    "- In a binary classification problem (two output classes), your network should end with a Dense layer with one unit and a sigmoid activation: the output of your network should be a scalar between 0 and 1, encoding a probability.\n",
    "- With such a scalar sigmoid output on a binary classification problem, the loss function you should use is binary_crossentropy.\n",
    "- The rmsprop optimizer is generally a good enough choice, whatever your problem. That’s one less thing for you to worry about.\n",
    "- As they get better on their training data, neural networks eventually start overfitting and end up obtaining increasingly worse results on data they’ve never seen before. Be sure"
   ]
  },
  {
   "cell_type": "markdown",
   "metadata": {},
   "source": [
    "## 3.5 Classifying newswires: a multiclass classification example\n",
    "- When dealing with problems that are more than one label, the following are possibilities...\n",
    "    - Because you have many classes, this problem is an instance of multiclass classification; and because each data point should be classified into only one category, the problem is more specifically an instance of **single-label, multiclass classification.**\n",
    "    - If each data point could belong to multiple categories (in this case, topics), you’d be facing a **multilabel, multiclass classification problem.**"
   ]
  },
  {
   "cell_type": "code",
   "execution_count": 20,
   "metadata": {},
   "outputs": [],
   "source": [
    "# Loading the reuters dataset\n",
    "from keras.datasets import reuters\n",
    "(train_data, train_labels), (test_data, test_labels) = reuters.load_data(\n",
    "    num_words=10000)"
   ]
  },
  {
   "cell_type": "code",
   "execution_count": 21,
   "metadata": {},
   "outputs": [
    {
     "name": "stdout",
     "output_type": "stream",
     "text": [
      "8982 2246\n"
     ]
    }
   ],
   "source": [
    "# Total # of training and testing examples\n",
    "print(len(train_data), len(test_data))"
   ]
  },
  {
   "cell_type": "code",
   "execution_count": 22,
   "metadata": {},
   "outputs": [
    {
     "data": {
      "text/plain": [
       "[1,\n",
       " 245,\n",
       " 273,\n",
       " 207,\n",
       " 156,\n",
       " 53,\n",
       " 74,\n",
       " 160,\n",
       " 26,\n",
       " 14,\n",
       " 46,\n",
       " 296,\n",
       " 26,\n",
       " 39,\n",
       " 74,\n",
       " 2979,\n",
       " 3554,\n",
       " 14,\n",
       " 46,\n",
       " 4689,\n",
       " 4329,\n",
       " 86,\n",
       " 61,\n",
       " 3499,\n",
       " 4795,\n",
       " 14,\n",
       " 61,\n",
       " 451,\n",
       " 4329,\n",
       " 17,\n",
       " 12]"
      ]
     },
     "execution_count": 22,
     "metadata": {},
     "output_type": "execute_result"
    }
   ],
   "source": [
    "# Each example is a list of integers (word indices):\n",
    "train_data[10]"
   ]
  },
  {
   "cell_type": "code",
   "execution_count": 23,
   "metadata": {},
   "outputs": [],
   "source": [
    "# Decoding the index to words\n",
    "word_index = reuters.get_word_index()\n",
    "reverse_word_index = dict([(value, key) for (key, value) in word_index.items()])\n",
    "decoded_newswire = ' '.join([reverse_word_index.get(i - 3, '?') for i in\n",
    "                             train_data[0]]) # Only for the first example\n",
    "\n"
   ]
  },
  {
   "cell_type": "code",
   "execution_count": 24,
   "metadata": {},
   "outputs": [],
   "source": [
    "import numpy as np\n",
    "\n",
    "def vectorize_sequences(sequences, dimension=10000):\n",
    "    results = np.zeros((len(sequences), dimension))\n",
    "    for i, sequence in enumerate(sequences):\n",
    "        results[i, sequence] = 1.\n",
    "    return results\n",
    "\n",
    "# Vectorizing the training/testing data\n",
    "x_train = vectorize_sequences(train_data)\n",
    "x_test = vectorize_sequences(test_data)"
   ]
  },
  {
   "cell_type": "code",
   "execution_count": 25,
   "metadata": {},
   "outputs": [],
   "source": [
    "# Unlike in the previous function, we will now use the hot-one encoding to vectorize the labels\n",
    "# 46 represents the categories possible\n",
    "def to_one_hot(labels, dimensions=46):\n",
    "    results = np.zeros((len(labels), dimensions))\n",
    "    for i, label in enumerate(labels):\n",
    "        results[i, label] = 1.\n",
    "    return results\n",
    "\n",
    "one_hot_train_labels = to_one_hot(train_labels)\n",
    "one_hot_test_labels = to_one_hot(test_labels)"
   ]
  },
  {
   "cell_type": "code",
   "execution_count": 26,
   "metadata": {},
   "outputs": [],
   "source": [
    "# As an alternative, Keras has the following function\n",
    "\n",
    "# from keras.utils.np_utils import to_categorical\n",
    "# one_hot_train_labels = to_categorical(train_labels)\n",
    "# one_hot_test_labels = to_categorical(test_labels)"
   ]
  },
  {
   "cell_type": "markdown",
   "metadata": {},
   "source": [
    "### 3.5.3 Building your network\n",
    "- This topic-classification problem looks similar to the previous movie-review classification problem: \n",
    "    - in both cases, you’re trying to classify short snippets of text. But there is a new constraint here: the number of output classes has gone from 2 to 46."
   ]
  },
  {
   "cell_type": "code",
   "execution_count": 27,
   "metadata": {},
   "outputs": [
    {
     "name": "stdout",
     "output_type": "stream",
     "text": [
      "Train on 7982 samples, validate on 1000 samples\n",
      "Epoch 1/20\n",
      "7982/7982 [==============================] - 2s 194us/step - loss: 2.5322 - acc: 0.4955 - val_loss: 1.7208 - val_acc: 0.6120\n",
      "Epoch 2/20\n",
      "7982/7982 [==============================] - 1s 116us/step - loss: 1.4452 - acc: 0.6879 - val_loss: 1.3459 - val_acc: 0.7060\n",
      "Epoch 3/20\n",
      "7982/7982 [==============================] - 1s 122us/step - loss: 1.0953 - acc: 0.7651 - val_loss: 1.1709 - val_acc: 0.7440\n",
      "Epoch 4/20\n",
      "7982/7982 [==============================] - 1s 117us/step - loss: 0.8697 - acc: 0.8162 - val_loss: 1.0784 - val_acc: 0.7590\n",
      "Epoch 5/20\n",
      "7982/7982 [==============================] - 1s 143us/step - loss: 0.7033 - acc: 0.8470 - val_loss: 0.9843 - val_acc: 0.7820\n",
      "Epoch 6/20\n",
      "7982/7982 [==============================] - 1s 140us/step - loss: 0.5665 - acc: 0.8804 - val_loss: 0.9414 - val_acc: 0.8040\n",
      "Epoch 7/20\n",
      "7982/7982 [==============================] - 1s 147us/step - loss: 0.4581 - acc: 0.9045 - val_loss: 0.9069 - val_acc: 0.8020\n",
      "Epoch 8/20\n",
      "7982/7982 [==============================] - 1s 123us/step - loss: 0.3696 - acc: 0.9228 - val_loss: 0.9352 - val_acc: 0.7900\n",
      "Epoch 9/20\n",
      "7982/7982 [==============================] - 1s 150us/step - loss: 0.3032 - acc: 0.9313 - val_loss: 0.8913 - val_acc: 0.8080\n",
      "Epoch 10/20\n",
      "7982/7982 [==============================] - 1s 160us/step - loss: 0.2539 - acc: 0.9415 - val_loss: 0.9064 - val_acc: 0.8110\n",
      "Epoch 11/20\n",
      "7982/7982 [==============================] - 1s 148us/step - loss: 0.2187 - acc: 0.9469 - val_loss: 0.9198 - val_acc: 0.8130\n",
      "Epoch 12/20\n",
      "7982/7982 [==============================] - 1s 140us/step - loss: 0.1875 - acc: 0.9506 - val_loss: 0.9044 - val_acc: 0.8140\n",
      "Epoch 13/20\n",
      "7982/7982 [==============================] - 1s 150us/step - loss: 0.1700 - acc: 0.9528 - val_loss: 0.9329 - val_acc: 0.8100\n",
      "Epoch 14/20\n",
      "7982/7982 [==============================] - 1s 134us/step - loss: 0.1532 - acc: 0.9553 - val_loss: 0.9704 - val_acc: 0.8080\n",
      "Epoch 15/20\n",
      "7982/7982 [==============================] - 2s 214us/step - loss: 0.1389 - acc: 0.9559 - val_loss: 0.9677 - val_acc: 0.8150\n",
      "Epoch 16/20\n",
      "7982/7982 [==============================] - 1s 142us/step - loss: 0.1310 - acc: 0.9562 - val_loss: 1.0228 - val_acc: 0.8020\n",
      "Epoch 17/20\n",
      "7982/7982 [==============================] - 1s 131us/step - loss: 0.1216 - acc: 0.9579 - val_loss: 1.0248 - val_acc: 0.7960\n",
      "Epoch 18/20\n",
      "7982/7982 [==============================] - 1s 131us/step - loss: 0.1196 - acc: 0.9580 - val_loss: 1.0415 - val_acc: 0.8090\n",
      "Epoch 19/20\n",
      "7982/7982 [==============================] - 1s 121us/step - loss: 0.1135 - acc: 0.9594 - val_loss: 1.0948 - val_acc: 0.7960\n",
      "Epoch 20/20\n",
      "7982/7982 [==============================] - 1s 121us/step - loss: 0.1110 - acc: 0.9594 - val_loss: 1.0690 - val_acc: 0.8010\n"
     ]
    }
   ],
   "source": [
    "# We need more nodes in each of the layers, there are more possible outcomes\n",
    "from keras import models\n",
    "from keras import layers\n",
    "\n",
    "model = models.Sequential()\n",
    "\n",
    "model.add(layers.Dense(64, activation='relu', input_shape=(10000, )))\n",
    "model.add(layers.Dense(64, activation='relu'))\n",
    "model.add(layers.Dense(46, activation='softmax'))\n",
    "\n",
    "# softmax assigns a prob to each of the output where the total shall be 1\n",
    "# Loss function: The best loss function to use in this case is categorical_crossentropy. \n",
    "# It measures the distance between two probability distributions: here, between the probability distribution\n",
    "# output by the network and the true distribution of the labels. \n",
    "model.compile(optimizer='rmsprop', \n",
    "             loss='categorical_crossentropy',\n",
    "             metrics=['accuracy'])\n",
    "\n",
    "# Validating the approach\n",
    "x_val = x_train[:1000]\n",
    "partial_x_train = x_train[1000:]\n",
    "y_val = one_hot_train_labels[:1000]\n",
    "partial_y_train = one_hot_train_labels[1000:]\n",
    "\n",
    "# Training the model \n",
    "history = model.fit(partial_x_train,\n",
    "                    partial_y_train,\n",
    "                    epochs=20,\n",
    "                    batch_size=512,\n",
    "                    validation_data=(x_val, y_val))"
   ]
  },
  {
   "cell_type": "markdown",
   "metadata": {},
   "source": [
    "** Reiminder: The val_loss is the loss function done on the validation set while the losss function is the loss on the training set**"
   ]
  },
  {
   "cell_type": "code",
   "execution_count": 28,
   "metadata": {},
   "outputs": [
    {
     "data": {
      "image/png": "[encoded data removed]",
      "text/plain": [
       "<Figure size 432x288 with 1 Axes>"
      ]
     },
     "metadata": {},
     "output_type": "display_data"
    }
   ],
   "source": [
    "# Plotting the training and validation loss\n",
    "import matplotlib.pyplot as plt\n",
    "\n",
    "loss = history.history['loss']\n",
    "val_loss = history.history['val_loss']\n",
    "epochs = range(1, len(loss) + 1)\n",
    "plt.plot(epochs, loss, 'bo', label='Training loss')\n",
    "plt.plot(epochs, val_loss, 'b', label='Validation loss')\n",
    "plt.title('Training and validation loss')\n",
    "plt.xlabel('Epochs')\n",
    "plt.ylabel('Loss')\n",
    "plt.legend()\n",
    "plt.show()"
   ]
  },
  {
   "cell_type": "code",
   "execution_count": 29,
   "metadata": {},
   "outputs": [
    {
     "data": {
      "image/png": "[encoded data removed]",
      "text/plain": [
       "<Figure size 432x288 with 1 Axes>"
      ]
     },
     "metadata": {},
     "output_type": "display_data"
    }
   ],
   "source": [
    "# Plotting the training and validation accuracy\n",
    "plt.clf()\n",
    "acc = history.history['acc']\n",
    "val_acc = history.history['val_acc']\n",
    "plt.plot(epochs, acc, 'bo', label='Training acc')\n",
    "plt.plot(epochs, val_acc, 'b', label='Validation acc')\n",
    "plt.title('Training and validation accuracy')\n",
    "plt.xlabel('Epochs')\n",
    "plt.ylabel('Loss')\n",
    "plt.legend()\n",
    "plt.show()"
   ]
  },
  {
   "cell_type": "markdown",
   "metadata": {},
   "source": [
    "- We see that the network begins to overfit after nine epochs. Let’s train a new network from scratch for nine epochs and then evaluate it on the test set."
   ]
  },
  {
   "cell_type": "code",
   "execution_count": 30,
   "metadata": {},
   "outputs": [
    {
     "name": "stdout",
     "output_type": "stream",
     "text": [
      "Train on 7982 samples, validate on 1000 samples\n",
      "Epoch 1/9\n",
      "7982/7982 [==============================] - 1s 162us/step - loss: 2.5391 - acc: 0.5227 - val_loss: 1.6724 - val_acc: 0.6570\n",
      "Epoch 2/9\n",
      "7982/7982 [==============================] - 1s 124us/step - loss: 1.3694 - acc: 0.7127 - val_loss: 1.2745 - val_acc: 0.7200\n",
      "Epoch 3/9\n",
      "7982/7982 [==============================] - 1s 141us/step - loss: 1.0131 - acc: 0.7791 - val_loss: 1.1302 - val_acc: 0.7520\n",
      "Epoch 4/9\n",
      "7982/7982 [==============================] - 1s 118us/step - loss: 0.7978 - acc: 0.8245 - val_loss: 1.0523 - val_acc: 0.7600\n",
      "Epoch 5/9\n",
      "7982/7982 [==============================] - 1s 128us/step - loss: 0.6397 - acc: 0.8632 - val_loss: 0.9735 - val_acc: 0.7940\n",
      "Epoch 6/9\n",
      "7982/7982 [==============================] - 1s 120us/step - loss: 0.5125 - acc: 0.8919 - val_loss: 0.9104 - val_acc: 0.8110\n",
      "Epoch 7/9\n",
      "7982/7982 [==============================] - 1s 119us/step - loss: 0.4123 - acc: 0.9148 - val_loss: 0.8936 - val_acc: 0.8210\n",
      "Epoch 8/9\n",
      "7982/7982 [==============================] - 1s 118us/step - loss: 0.3355 - acc: 0.9290 - val_loss: 0.8733 - val_acc: 0.8280\n",
      "Epoch 9/9\n",
      "7982/7982 [==============================] - 1s 120us/step - loss: 0.2781 - acc: 0.9371 - val_loss: 0.9368 - val_acc: 0.8010\n",
      "2246/2246 [==============================] - 0s 147us/step\n"
     ]
    }
   ],
   "source": [
    "# Retraining the model with 9 epochs\n",
    "model = models.Sequential()\n",
    "model.add(layers.Dense(64, activation='relu', input_shape=(10000,)))\n",
    "model.add(layers.Dense(64, activation='relu'))\n",
    "model.add(layers.Dense(46, activation='softmax'))\n",
    "\n",
    "model.compile(optimizer='rmsprop',\n",
    "              loss='categorical_crossentropy',\n",
    "              metrics=['accuracy'])\n",
    "\n",
    "model.fit(partial_x_train,\n",
    "          partial_y_train,\n",
    "          epochs=9,\n",
    "          batch_size=512,\n",
    "          validation_data=(x_val, y_val))\n",
    "\n",
    "results = model.evaluate(x_test, one_hot_test_labels)"
   ]
  },
  {
   "cell_type": "code",
   "execution_count": 31,
   "metadata": {},
   "outputs": [
    {
     "data": {
      "text/plain": [
       "0.182546749777382"
      ]
     },
     "execution_count": 31,
     "metadata": {},
     "output_type": "execute_result"
    }
   ],
   "source": [
    "# A good baseline is to randomly assign values\n",
    "import copy\n",
    "test_labels_copy = copy.copy(test_labels)\n",
    "np.random.shuffle(test_labels_copy)\n",
    "hits_array = np.array(test_labels) == np.array(test_labels_copy)\n",
    "float(np.sum(hits_array)) / len(test_labels)"
   ]
  },
  {
   "cell_type": "code",
   "execution_count": 32,
   "metadata": {},
   "outputs": [
    {
     "data": {
      "text/plain": [
       "((46,), 0.9999999)"
      ]
     },
     "execution_count": 32,
     "metadata": {},
     "output_type": "execute_result"
    }
   ],
   "source": [
    "# What if want to find the result on testing set?\n",
    "predictions = model.predict(x_test)\n",
    "\n",
    "# Remember: each of the entry is a prediction. If we look at the first example...\n",
    "# we realized that the shape is a vector of 46, indicating that we will give a prob.\n",
    "# to each of the possible outcomes (it adds to 1)\n",
    "predictions[0].shape, np.sum(predictions[0])"
   ]
  },
  {
   "cell_type": "code",
   "execution_count": 33,
   "metadata": {},
   "outputs": [
    {
     "data": {
      "text/plain": [
       "3"
      ]
     },
     "execution_count": 33,
     "metadata": {},
     "output_type": "execute_result"
    }
   ],
   "source": [
    "# if we want the largest prob. btw all the classes, we could do the folliwing\n",
    "np.argmax(predictions[0])"
   ]
  },
  {
   "cell_type": "code",
   "execution_count": 34,
   "metadata": {},
   "outputs": [],
   "source": [
    "# 3.5.6 A different way to handle the labels and the loss\n",
    "y_train = np.array(train_labels)\n",
    "y_test = np.array(test_labels)\n",
    "\n",
    "# the difference is that we will incorporate labels as replacements...\n",
    "# Replace categorical_crossentropy with sparse_categorical_crossentropy\n",
    "model.compile(optimizer='rmsprop',\n",
    "              loss='sparse_categorical_crossentropy',\n",
    "              metrics=['acc'])"
   ]
  },
  {
   "cell_type": "code",
   "execution_count": 35,
   "metadata": {},
   "outputs": [],
   "source": [
    "# We should stray out away from not hvaing enough nodes in a complex model"
   ]
  },
  {
   "cell_type": "code",
   "execution_count": 36,
   "metadata": {},
   "outputs": [],
   "source": [
    "# 3.5.8 Further experiments\n",
    "# - Try using larger or smaller layers: 32 units, 128 units, and so on.\n",
    "# - You used two hidden layers. Now try using a single hidden layer, or three hidden layers."
   ]
  },
  {
   "cell_type": "markdown",
   "metadata": {},
   "source": [
    "### 3.5.9 Wrapping up\n",
    "- If you’re trying to classify data points among N classes, your network should end with a Dense layer of size N. Meaning, that we give of the possible outcomes a fair chance even if we might think they are not a probalt case\n",
    "- In a single-label, multiclass classification problem, your network should end with a softmax activation so that it will output a probability distribution over the N output classes. \n",
    "- *Categorical crossentropy is almost always the loss function you should use for such problems. It minimizes the distance between the probability distributions output by the network and the true distribution of the targets.*\n",
    "- There are two ways to handle labels in multiclass classification:\n",
    "    1. Encoding the labels via categorical encoding (also known as one-hot encoding) and using categorical_crossentropy as a loss function. One-hot-encoding is giving 1 and 0.\n",
    "    2. Encoding the labels as integers and using the sparse_categorical_crossentropy loss function\n",
    "- If you need to classify data into a large number of categories, you should avoid creating information bottlenecks in your network due to intermediate layers that are too small."
   ]
  },
  {
   "cell_type": "markdown",
   "metadata": {},
   "source": [
    "## 3.6 Predicting house prices: a regression example"
   ]
  },
  {
   "cell_type": "code",
   "execution_count": 37,
   "metadata": {},
   "outputs": [],
   "source": [
    "from keras.datasets import boston_housing\n",
    "(train_data, train_targets), (test_data, test_targets) = boston_housing.load_data()"
   ]
  },
  {
   "cell_type": "code",
   "execution_count": 38,
   "metadata": {},
   "outputs": [
    {
     "data": {
      "text/plain": [
       "((404, 13), (102, 13))"
      ]
     },
     "execution_count": 38,
     "metadata": {},
     "output_type": "execute_result"
    }
   ],
   "source": [
    "# The shape of the training set\n",
    "train_data.shape, test_data.shape"
   ]
  },
  {
   "cell_type": "code",
   "execution_count": 39,
   "metadata": {},
   "outputs": [],
   "source": [
    "# Given the different scale of the variables, we have to normalize the data\n",
    "mean = train_data.mean(axis=0)\n",
    "std = train_data.std(axis=0)\n",
    "\n",
    "train_data -= mean\n",
    "train_data /= std\n",
    "\n",
    "test_data -= mean\n",
    "test_data /= std"
   ]
  },
  {
   "cell_type": "markdown",
   "metadata": {},
   "source": [
    "** You should never use in your workflow any quantity computed on the test data, even for something as simple as data normalization.**"
   ]
  },
  {
   "cell_type": "code",
   "execution_count": 40,
   "metadata": {},
   "outputs": [],
   "source": [
    "# 3.6.3 Building your network\n",
    "\n",
    "# In general, the less training data you have, the worse overfitting\n",
    "# will be, and using a small network is one way to mitigate overfitting.\n",
    "\n",
    "# Thus, we create a small network with two hidden layers and 64 units\n",
    "\n",
    "# Recall that we normalize the data, and a change of MAE .5 is equivalent to a 500 dollar difference\n",
    "\n",
    "from keras import layers\n",
    "from keras import models\n",
    "\n",
    "def build_model():\n",
    "    model = models.Sequential()\n",
    "    model.add(layers.Dense(64, activation='relu',\n",
    "                          input_shape=(train_data.shape[1],)))\n",
    "    model.add(layers.Dense(64, activation='relu'))\n",
    "    \n",
    "    # The final layer will ot have any activation, it is a linear problem, thus, we do not need to \n",
    "    # create any activation function\n",
    "    model.add(layers.Dense(1))\n",
    "    \n",
    "    model.compile(optimizer='rmsprop', loss='mse', metrics=['mae'])\n",
    "    return model"
   ]
  },
  {
   "cell_type": "code",
   "execution_count": 46,
   "metadata": {},
   "outputs": [
    {
     "name": "stdout",
     "output_type": "stream",
     "text": [
      "Processing fold: 0\n",
      "Processing fold: 1\n",
      "Processing fold: 2\n",
      "Processing fold: 3\n"
     ]
    }
   ],
   "source": [
    "# K-fold validation\n",
    "# The partial data will be used as the training set where we test on the val_data!\n",
    "\n",
    "k = 4\n",
    "\n",
    "# The total values that we will partitioned the data\n",
    "num_val_samples = len(train_data)//k\n",
    "\n",
    "num_epochs = 100\n",
    "all_scores = []\n",
    "\n",
    "for i in range(k):\n",
    "    print(\"Processing fold: {0}\".format(i))\n",
    "    \n",
    "    # Using the total # of values per each bucket for the validation set \n",
    "    val_data = train_data[i*num_val_samples:(i+1)*num_val_samples]\n",
    "    val_target = train_targets[i*num_val_samples:(i+1)*num_val_samples]\n",
    "    \n",
    "    # Using the reminder of the data (will serve as the training set, what the algo will learned)\n",
    "    partial_train_data = np.concatenate([train_data[:i * num_val_samples],\n",
    "                                         train_data[(i + 1) * num_val_samples:]], axis=0)\n",
    "    partial_train_targets = np.concatenate([train_targets[:i * num_val_samples],\n",
    "                                            train_targets[(i + 1) * num_val_samples:]], axis=0)\n",
    "    \n",
    "    # We will build a model for each of the k-fold\n",
    "    model = build_model()\n",
    "    model.fit(partial_train_data, partial_train_targets,\n",
    "              epochs=num_epochs, batch_size=1, verbose=0)\n",
    "    \n",
    "    # How we are scoring the validation set\n",
    "    val_mse, val_mae = model.evaluate(val_data, val_target, verbose=0)\n",
    "    \n",
    "    # lastly, we will store the scoring value\n",
    "    all_scores.append(val_mae)\n",
    "    "
   ]
  },
  {
   "cell_type": "code",
   "execution_count": 47,
   "metadata": {},
   "outputs": [
    {
     "data": {
      "text/plain": [
       "([1.915696365998523, 2.79560919563369, 2.5082943628330043, 2.295379864107264],\n",
       " 2.3787449471431206)"
      ]
     },
     "execution_count": 47,
     "metadata": {},
     "output_type": "execute_result"
    }
   ],
   "source": [
    "all_scores, np.mean(all_scores)\n",
    "\n",
    "# Reminders, the values are relatively small bc we normalized the data\n",
    "\n",
    "# The difference is 3 which translates to 3000 dollar. Given that are dataset is btw 10K and 50K, \n",
    "# the difference is signficiant"
   ]
  },
  {
   "cell_type": "code",
   "execution_count": 48,
   "metadata": {},
   "outputs": [
    {
     "name": "stdout",
     "output_type": "stream",
     "text": [
      "Processing fold: 0\n",
      "Processing fold: 1\n",
      "Processing fold: 2\n",
      "Processing fold: 3\n"
     ]
    }
   ],
   "source": [
    "# Saving the validation log at each fold, meaning, we will have the validation \n",
    "# Increasing the num pf epoch to 500\n",
    "\n",
    "# The difference btw the previous traiing and this is that in the prior\n",
    "# we are extracting the model after it runs the 100 epochs\n",
    "# In this one, we are evaulating the info. of each of the epoch (I believe so...)\n",
    "\n",
    "num_epochs = 500\n",
    "all_mae_history = []\n",
    "\n",
    "for i in range(k):\n",
    "    print(\"Processing fold: {0}\".format(i))\n",
    "    \n",
    "    val_data = train_data[i * num_val_samples: (i + 1) * num_val_samples]\n",
    "    val_targets = train_targets[i * num_val_samples: (i + 1) * num_val_samples]\n",
    "    \n",
    "    partial_train_data = np.concatenate([train_data[:i * num_val_samples], \n",
    "                                         train_data[(i + 1) * num_val_samples:]],\n",
    "                                        axis=0)\n",
    "    partial_train_targets = np.concatenate([train_targets[:i * num_val_samples],\n",
    "                                            train_targets[(i + 1) * num_val_samples:]], axis=0)\n",
    "    \n",
    "    model = build_model()\n",
    "    history = model.fit(partial_train_data, partial_train_targets,\n",
    "                        validation_data=(val_data, val_targets),\n",
    "                        epochs=num_epochs, batch_size=1, verbose=0)\n",
    "    \n",
    "    mae_history = history.history['val_mean_absolute_error']    \n",
    "    all_mae_history.append(mae_history)\n"
   ]
  },
  {
   "cell_type": "code",
   "execution_count": 50,
   "metadata": {},
   "outputs": [],
   "source": [
    "# Building the succcesive mean of each score\n",
    "average_mae_history = [\n",
    "    np.mean([x[i] for x in all_mae_history]) for i in range(num_epochs)]"
   ]
  },
  {
   "cell_type": "code",
   "execution_count": 51,
   "metadata": {},
   "outputs": [
    {
     "data": {
      "image/png": "[encoded data removed]",
      "text/plain": [
       "<Figure size 432x288 with 1 Axes>"
      ]
     },
     "metadata": {},
     "output_type": "display_data"
    }
   ],
   "source": [
    "# Plotting the validation set\n",
    "\n",
    "plt.plot(range(1, len(average_mae_history) + 1), average_mae_history)\n",
    "plt.xlabel('Epochs')\n",
    "plt.ylabel('Validation MAE')\n",
    "plt.show()"
   ]
  },
  {
   "cell_type": "code",
   "execution_count": 52,
   "metadata": {},
   "outputs": [],
   "source": [
    "# Since the graph above is clunky, the author suggest \n",
    "# we remove the first 10 data points (not on the same scale, do not know why)\n",
    "# and replace each point with an exponential moving average of the previous points to obtain a smooth curve.\n",
    "\n",
    "def smooth_curve(points, factor=0.9):\n",
    "    smoothed_points = []\n",
    "    for point in points:\n",
    "        if smoothed_points:\n",
    "            previous = smoothed_points[-1]\n",
    "            smoothed_points.append(previous * factor + point * (1 - factor))\n",
    "        else:\n",
    "            smoothed_points.append(point)\n",
    "    return smoothed_points"
   ]
  },
  {
   "cell_type": "code",
   "execution_count": 53,
   "metadata": {},
   "outputs": [
    {
     "data": {
      "image/png": "[encoded data removed]",
      "text/plain": [
       "<Figure size 432x288 with 1 Axes>"
      ]
     },
     "metadata": {},
     "output_type": "display_data"
    }
   ],
   "source": [
    "smooth_mae_history = smooth_curve(average_mae_history[10:])\n",
    "plt.plot(range(1, len(smooth_mae_history) + 1), smooth_mae_history)\n",
    "plt.xlabel('Epochs')\n",
    "plt.ylabel('Validation MAE')\n",
    "plt.show()"
   ]
  },
  {
   "cell_type": "code",
   "execution_count": 54,
   "metadata": {},
   "outputs": [
    {
     "name": "stdout",
     "output_type": "stream",
     "text": [
      "102/102 [==============================] - 0s 1ms/step\n"
     ]
    },
    {
     "data": {
      "text/plain": [
       "2.8116693683699068"
      ]
     },
     "execution_count": 54,
     "metadata": {},
     "output_type": "execute_result"
    }
   ],
   "source": [
    "# Retraining the total set using all the data points\n",
    "model = build_model()\n",
    "model.fit(train_data, train_targets, epochs=80,\n",
    "         batch_size=16, verbose=0)\n",
    "\n",
    "test_mse_score, test_mae_score = model.evaluate(test_data, test_targets)\n",
    "test_mae_score"
   ]
  },
  {
   "cell_type": "markdown",
   "metadata": {},
   "source": [
    "**NOTES**\n",
    "- We are still off by still by about $2,811."
   ]
  },
  {
   "cell_type": "markdown",
   "metadata": {},
   "source": [
    "### 3.6.5 Wrapping up\n",
    "- Regressions have a different loss function than classification (MSE, RMSE are popular loss functions)\n",
    "- Evaluation metrics to be used for regression differ from those used for classification; naturally, the concept of accuracy doesn’t apply for regression. A common regression metric is mean absolute error (MAE).\n",
    "- Scaling the data is important. Or else, we could have values be represnted with a greater importance because it has a greater abs value\n",
    "- When there is little data available, using K-fold validation is a great way to reliably evaluate a model.\n",
    "- When little training data is available, it’s preferable to use a small network with few hidden layers (typically only one or two), in order to avoid severe overfitting.\n",
    "- Notice how the evaluation metrics is different than the loss function. Interstinly enoigh, the evaluation metrics does not have to do with bettering the model. Only the loss function is being optimized to better fit the data."
   ]
  },
  {
   "cell_type": "markdown",
   "metadata": {},
   "source": [
    "### Chapter Summary:\n",
    "- You’re now able to handle the most common kinds of machine-learning tasks on vector data: binary classification, multiclass classification, and scalar regression. The “Wrapping up” sections earlier in the chapter summarize the important points you’ve learned regarding these types of tasks.\n",
    "- You’ll usually need to preprocess raw data before feeding it into a neural network.\n",
    "- When your data has features with different ranges, scale each feature independently as part of preprocessing.\n",
    "- As training progresses, neural networks eventually begin to overfit and obtain worse results on never-before-seen data.\n",
    "- If you don’t have much training data, use a small network with only one or two hidden layers, to avoid severe overfitting.\n",
    "- If your data is divided into many categories, you may cause information bottlenecks if you make the intermediate layers too small. Meaning, a lot of the information will be be pushed to be in a few neural networks if we do not have enough enough networks to learn the model.\n",
    "- Regression uses different loss functions and different evaluation metrics than classification.\n",
    "- When you’re working with little data, K-fold validation can help reliably evaluate your model."
   ]
  }
 ],
 "metadata": {
  "kernelspec": {
   "display_name": "Python 3",
   "language": "python",
   "name": "python3"
  },
  "language_info": {
   "codemirror_mode": {
    "name": "ipython",
    "version": 3
   },
   "file_extension": ".py",
   "mimetype": "text/x-python",
   "name": "python",
   "nbconvert_exporter": "python",
   "pygments_lexer": "ipython3",
   "version": "3.6.5"
  }
 },
 "nbformat": 4,
 "nbformat_minor": 2
}
